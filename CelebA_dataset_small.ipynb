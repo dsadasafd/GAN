{
  "nbformat": 4,
  "nbformat_minor": 0,
  "metadata": {
    "colab": {
      "provenance": [],
      "authorship_tag": "ABX9TyMV9t3IV40EaYB4zheqQ6XA",
      "include_colab_link": true
    },
    "kernelspec": {
      "name": "python3",
      "display_name": "Python 3"
    },
    "language_info": {
      "name": "python"
    }
  },
  "cells": [
    {
      "cell_type": "markdown",
      "metadata": {
        "id": "view-in-github",
        "colab_type": "text"
      },
      "source": [
        "<a href=\"https://colab.research.google.com/github/dsadasafd/GAN/blob/main/CelebA_dataset_small.ipynb\" target=\"_parent\"><img src=\"https://colab.research.google.com/assets/colab-badge.svg\" alt=\"Open In Colab\"/></a>"
      ]
    },
    {
      "cell_type": "code",
      "execution_count": null,
      "metadata": {
        "id": "4_j5eWYyo5e4",
        "colab": {
          "base_uri": "https://localhost:8080/"
        },
        "outputId": "777eee57-d63f-4806-deb3-dc8f5272f6e6"
      },
      "outputs": [
        {
          "output_type": "stream",
          "name": "stdout",
          "text": [
            "Drive already mounted at ./mount; to attempt to forcibly remount, call drive.mount(\"./mount\", force_remount=True).\n"
          ]
        }
      ],
      "source": [
        "# mount Drive to access data files\n",
        "\n",
        "from google.colab import drive\n",
        "drive.mount('./mount')"
      ]
    },
    {
      "cell_type": "code",
      "source": [
        "import torchvision.datasets"
      ],
      "metadata": {
        "id": "igiUmeISpnmO"
      },
      "execution_count": null,
      "outputs": []
    },
    {
      "cell_type": "code",
      "source": [
        "import h5py\n",
        "import zipfile\n",
        "import imageio\n",
        "import os"
      ],
      "metadata": {
        "id": "ktR2CDlUpwfe"
      },
      "execution_count": null,
      "outputs": []
    },
    {
      "cell_type": "code",
      "source": [
        "hdf5_file = 'mount/My Drive/Colab Notebooks/celeba_data/celeba_aligned_small.h5py'\n",
        "total_images = 20000\n",
        "\n",
        "\n",
        "with h5py.File(hdf5_file, 'w') as hf:\n",
        "\n",
        "  count = 0\n",
        "\n",
        "  with zipfile.ZipFile('mount/My Drive/Colab Notebooks/celeba_data/img_align_celeba.zip', 'r')as zf:\n",
        "    for i in zf.namelist():\n",
        "      if (i[-4:] == '.jpg'):\n",
        "        ofile = zf.extract(i)\n",
        "        img = imageio.imread(ofile)\n",
        "        os.remove(ofile)\n",
        "\n",
        "        hf.create_dataset('img_align_celeb'+str(count)+'.jpg', data=img, compression=\"gzip\", compression_opts=9)\n",
        "\n",
        "        count += 1\n",
        "\n",
        "        if (count % 1000 == 0):\n",
        "          print('image done ..', count)\n",
        "          pass\n",
        "\n",
        "\n",
        "        if (count == total_images):\n",
        "          break\n",
        "\n",
        "        pass\n",
        "\n",
        "      pass\n",
        "    pass\n",
        "\n",
        "\n",
        "\n"
      ],
      "metadata": {
        "id": "Vm3oWim3pyku",
        "colab": {
          "base_uri": "https://localhost:8080/"
        },
        "outputId": "2fbdb5be-bffb-42f8-a55c-3c7719030ba5"
      },
      "execution_count": null,
      "outputs": [
        {
          "output_type": "stream",
          "name": "stderr",
          "text": [
            "<ipython-input-10-66223e5c64f4>:13: DeprecationWarning: Starting with ImageIO v3 the behavior of this function will switch to that of iio.v3.imread. To keep the current behavior (and make this warning disappear) use `import imageio.v2 as imageio` or call `imageio.v2.imread` directly.\n",
            "  img = imageio.imread(ofile)\n"
          ]
        },
        {
          "output_type": "stream",
          "name": "stdout",
          "text": [
            "image done .. 1000\n",
            "image done .. 2000\n",
            "image done .. 3000\n",
            "image done .. 4000\n",
            "image done .. 5000\n",
            "image done .. 6000\n",
            "image done .. 7000\n",
            "image done .. 8000\n",
            "image done .. 9000\n",
            "image done .. 10000\n",
            "image done .. 11000\n",
            "image done .. 12000\n",
            "image done .. 13000\n",
            "image done .. 14000\n",
            "image done .. 15000\n",
            "image done .. 16000\n",
            "image done .. 17000\n",
            "image done .. 18000\n",
            "image done .. 19000\n",
            "image done .. 20000\n"
          ]
        }
      ]
    },
    {
      "cell_type": "code",
      "source": [],
      "metadata": {
        "id": "5ufEWinaBgxv"
      },
      "execution_count": null,
      "outputs": []
    }
  ]
}